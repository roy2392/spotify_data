{
 "cells": [
  {
   "cell_type": "markdown",
   "id": "920fbcc1",
   "metadata": {},
   "source": [
    "## API Data Extraction"
   ]
  },
  {
   "cell_type": "code",
   "execution_count": 1,
   "id": "86a007ee",
   "metadata": {},
   "outputs": [],
   "source": [
    "#import libaries\n",
    "\n",
    "%matplotlib inline\n",
    "import matplotlib.pyplot as plt\n",
    "import seaborn as sns\n",
    "import pandas as pd\n"
   ]
  },
  {
   "cell_type": "code",
   "execution_count": 2,
   "id": "bb6d1332",
   "metadata": {},
   "outputs": [],
   "source": [
    "#use the requests library, and save those client credentials from our Spotify project’s pag\n",
    "import requests\n",
    "CLIENT_ID = ''\n",
    "CLIENT_SECRET = ''"
   ]
  },
  {
   "cell_type": "code",
   "execution_count": 3,
   "id": "bbf0020e",
   "metadata": {},
   "outputs": [],
   "source": [
    "#pass an access token\n",
    "AUTH_URL = 'https://accounts.spotify.com/api/token'\n",
    "\n",
    "# POST\n",
    "auth_response = requests.post(AUTH_URL, {\n",
    "    'grant_type': 'client_credentials',\n",
    "    'client_id': CLIENT_ID,\n",
    "    'client_secret': CLIENT_SECRET,\n",
    "})\n",
    "\n",
    "# convert the response to JSON\n",
    "auth_response_data = auth_response.json()\n",
    "\n",
    "# save the access token\n",
    "access_token = auth_response_data['access_token']"
   ]
  },
  {
   "cell_type": "code",
   "execution_count": 4,
   "id": "37ac2100",
   "metadata": {},
   "outputs": [],
   "source": [
    "headers = {\n",
    "    'Authorization': 'Bearer {token}'.format(token=access_token)\n",
    "}"
   ]
  },
  {
   "cell_type": "code",
   "execution_count": 5,
   "id": "5eead782",
   "metadata": {},
   "outputs": [],
   "source": [
    "# base URL of all Spotify API endpoints\n",
    "BASE_URL = 'https://api.spotify.com/v1/'\n",
    "\n",
    "# Track ID from the URI\n",
    "track_id = '6y0igZArWVi6Iz0rj35c1Y'\n",
    "\n",
    "# actual GET request with proper header\n",
    "r = requests.get(BASE_URL + 'audio-features/' + track_id, headers=headers)"
   ]
  },
  {
   "cell_type": "code",
   "execution_count": 6,
   "id": "0a672428",
   "metadata": {},
   "outputs": [
    {
     "data": {
      "text/plain": [
       "{'danceability': 0.54,\n",
       " 'energy': 0.59,\n",
       " 'key': 0,\n",
       " 'loudness': -4.359,\n",
       " 'mode': 1,\n",
       " 'speechiness': 0.0528,\n",
       " 'acousticness': 0.446,\n",
       " 'instrumentalness': 0,\n",
       " 'liveness': 0.14,\n",
       " 'valence': 0.267,\n",
       " 'tempo': 119.878,\n",
       " 'type': 'audio_features',\n",
       " 'id': '6y0igZArWVi6Iz0rj35c1Y',\n",
       " 'uri': 'spotify:track:6y0igZArWVi6Iz0rj35c1Y',\n",
       " 'track_href': 'https://api.spotify.com/v1/tracks/6y0igZArWVi6Iz0rj35c1Y',\n",
       " 'analysis_url': 'https://api.spotify.com/v1/audio-analysis/6y0igZArWVi6Iz0rj35c1Y',\n",
       " 'duration_ms': 234910,\n",
       " 'time_signature': 4}"
      ]
     },
     "execution_count": 6,
     "metadata": {},
     "output_type": "execute_result"
    }
   ],
   "source": [
    "r = r.json()\n",
    "r"
   ]
  },
  {
   "cell_type": "code",
   "execution_count": 7,
   "id": "ed9f58a3",
   "metadata": {
    "scrolled": true
   },
   "outputs": [
    {
     "data": {
      "text/html": [
       "<iframe src=\"https://developer.spotify.com/documentation/web-api/reference/#/operations/get-audio-features\" width=\"1200\" height=\"1000\"></iframe>\n"
      ],
      "text/plain": [
       "<IPython.core.display.HTML object>"
      ]
     },
     "metadata": {},
     "output_type": "display_data"
    }
   ],
   "source": [
    "%%html\n",
    "<iframe src=\"https://developer.spotify.com/documentation/web-api/reference/#/operations/get-audio-features\" width=\"1200\" height=\"1000\"></iframe>"
   ]
  },
  {
   "cell_type": "code",
   "execution_count": 8,
   "id": "d4b4e88e",
   "metadata": {},
   "outputs": [],
   "source": [
    "#artist id - drake\n",
    "artist_id = '36QJpDe2go2KgaRleHCDTp'\n",
    "\n",
    "# pull all artists albums\n",
    "r = requests.get(BASE_URL + 'artists/' + artist_id + '/albums', \n",
    "                 headers=headers, \n",
    "                 params={'include_groups': 'album', 'limit': 50})\n",
    "d = r.json()"
   ]
  },
  {
   "cell_type": "code",
   "execution_count": 9,
   "id": "e51747dc",
   "metadata": {},
   "outputs": [
    {
     "name": "stdout",
     "output_type": "stream",
     "text": [
      "The Complete BBC Sessions (Remastered)  ---  2016-09-16\n",
      "Physical Graffiti (Deluxe Edition)  ---  2015-02-24\n",
      "Celebration Day  ---  2012-11-19\n",
      "Mothership (Remastered)  ---  2007\n",
      "How the West Was Won (Remaster)  ---  2003-05-27\n",
      "Coda (Deluxe Edition)  ---  1982-11-19\n",
      "Coda (Remaster)  ---  1982-11-19\n",
      "In Through the out Door (Deluxe Edition)  ---  1979-08-15\n",
      "In Through the out Door (Remaster)  ---  1979-08-15\n",
      "The Song Remains the Same (Remaster)  ---  1976-10-22\n",
      "Presence (Deluxe Edition)  ---  1976-03-31\n",
      "Presence (Remaster)  ---  1976-03-31\n",
      "Physical Graffiti (Remaster)  ---  1975-02-24\n",
      "Physical Graffiti (1994 Remaster)  ---  1975-02-24\n",
      "Physical Graffiti (Deluxe Edition)  ---  1975-02-24\n",
      "Houses of the Holy (Deluxe Edition)  ---  1973-03-28\n",
      "Houses of the Holy (Remaster)  ---  1973-03-28\n",
      "Led Zeppelin IV (Deluxe Edition)  ---  1971-11-08\n",
      "Led Zeppelin IV (Remaster)  ---  1971-11-08\n",
      "Led Zeppelin III (Deluxe Edition)  ---  1970-10-05\n",
      "Led Zeppelin III (Deluxe Edition)  ---  1970-10-05\n",
      "Led Zeppelin III (Remaster)  ---  1970\n",
      "Led Zeppelin II (Deluxe Edition)  ---  1969-10-22\n",
      "Led Zeppelin II (Deluxe Edition)  ---  1969-10-22\n",
      "Led Zeppelin II (Remaster)  ---  1969-10-22\n",
      "Led Zeppelin II (1994 Remaster)  ---  1969-10-22\n",
      "Led Zeppelin (Deluxe Edition)  ---  1969-01-12\n",
      "Led Zeppelin (Deluxe Edition)  ---  1969-01-12\n",
      "Led Zeppelin (Remaster)  ---  1969-01-12\n",
      "Led Zeppelin  ---  1969-01-12\n"
     ]
    }
   ],
   "source": [
    "for album in d['items']:\n",
    "    print(album['name'], ' --- ', album['release_date'])"
   ]
  },
  {
   "cell_type": "code",
   "execution_count": 10,
   "id": "330b70cc",
   "metadata": {},
   "outputs": [
    {
     "name": "stdout",
     "output_type": "stream",
     "text": [
      "Coda (Deluxe Edition)\n",
      "In Through the out Door (Deluxe Edition)\n",
      "The Song Remains the Same (Remaster)\n",
      "Presence (Deluxe Edition)\n",
      "Physical Graffiti (Remaster)\n",
      "Houses of the Holy (Deluxe Edition)\n",
      "Led Zeppelin IV (Deluxe Edition)\n",
      "Led Zeppelin III (Deluxe Edition)\n",
      "Led Zeppelin II (Deluxe Edition)\n",
      "Led Zeppelin (Deluxe Edition)\n"
     ]
    }
   ],
   "source": [
    "data = []   # will hold all track info\n",
    "albums = [] # to keep track of duplicates\n",
    "\n",
    "# loop over albums and get all tracks\n",
    "for album in d['items']:\n",
    "    album_name = album['name']\n",
    "\n",
    "    # here's a hacky way to skip over albums we've already grabbed\n",
    "    trim_name = album_name.split('(')[0].strip()\n",
    "    if trim_name.upper() in albums or int(album['release_date'][:4]) > 1983:\n",
    "        continue\n",
    "    albums.append(trim_name.upper()) # use upper() to standardize\n",
    "    \n",
    "    # this takes a few seconds so let's keep track of progress    \n",
    "    print(album_name)\n",
    "    \n",
    "    # pull all tracks from this album\n",
    "    r = requests.get(BASE_URL + 'albums/' + album['id'] + '/tracks', \n",
    "        headers=headers)\n",
    "    tracks = r.json()['items']\n",
    "    \n",
    "    for track in tracks:\n",
    "        # get audio features (key, liveness, danceability, ...)\n",
    "        f = requests.get(BASE_URL + 'audio-features/' + track['id'], \n",
    "            headers=headers)\n",
    "        f = f.json()\n",
    "        \n",
    "        # combine with album info\n",
    "        f.update({\n",
    "            'track_name': track['name'],\n",
    "            'album_name': album_name,\n",
    "            'short_album_name': trim_name,\n",
    "            'release_date': album['release_date'],\n",
    "            'album_id': album['id']\n",
    "        })\n",
    "        \n",
    "        data.append(f)"
   ]
  },
  {
   "cell_type": "code",
   "execution_count": 11,
   "id": "050de6e4",
   "metadata": {},
   "outputs": [],
   "source": [
    "df = pd.DataFrame(data)"
   ]
  },
  {
   "cell_type": "code",
   "execution_count": 12,
   "id": "c4ce96b3",
   "metadata": {},
   "outputs": [],
   "source": [
    "# convert release_date to an actual date, and sort by it\n",
    "df['release_date'] = pd.to_datetime(df['release_date'])\n",
    "df = df.sort_values(by='release_date')"
   ]
  },
  {
   "cell_type": "code",
   "execution_count": 13,
   "id": "22faa85f",
   "metadata": {},
   "outputs": [
    {
     "data": {
      "text/html": [
       "<div>\n",
       "<style scoped>\n",
       "    .dataframe tbody tr th:only-of-type {\n",
       "        vertical-align: middle;\n",
       "    }\n",
       "\n",
       "    .dataframe tbody tr th {\n",
       "        vertical-align: top;\n",
       "    }\n",
       "\n",
       "    .dataframe thead th {\n",
       "        text-align: right;\n",
       "    }\n",
       "</style>\n",
       "<table border=\"1\" class=\"dataframe\">\n",
       "  <thead>\n",
       "    <tr style=\"text-align: right;\">\n",
       "      <th></th>\n",
       "      <th>danceability</th>\n",
       "      <th>energy</th>\n",
       "      <th>key</th>\n",
       "      <th>loudness</th>\n",
       "      <th>mode</th>\n",
       "      <th>speechiness</th>\n",
       "      <th>acousticness</th>\n",
       "      <th>instrumentalness</th>\n",
       "      <th>liveness</th>\n",
       "      <th>valence</th>\n",
       "      <th>...</th>\n",
       "      <th>uri</th>\n",
       "      <th>track_href</th>\n",
       "      <th>analysis_url</th>\n",
       "      <th>duration_ms</th>\n",
       "      <th>time_signature</th>\n",
       "      <th>track_name</th>\n",
       "      <th>album_name</th>\n",
       "      <th>short_album_name</th>\n",
       "      <th>release_date</th>\n",
       "      <th>album_id</th>\n",
       "    </tr>\n",
       "  </thead>\n",
       "  <tbody>\n",
       "    <tr>\n",
       "      <th>159</th>\n",
       "      <td>0.209</td>\n",
       "      <td>0.617</td>\n",
       "      <td>2</td>\n",
       "      <td>-10.246</td>\n",
       "      <td>1</td>\n",
       "      <td>0.0484</td>\n",
       "      <td>0.000518</td>\n",
       "      <td>0.096700</td>\n",
       "      <td>0.6450</td>\n",
       "      <td>0.370</td>\n",
       "      <td>...</td>\n",
       "      <td>spotify:track:3A5GuTgDl58yS4HucB2IkX</td>\n",
       "      <td>https://api.spotify.com/v1/tracks/3A5GuTgDl58y...</td>\n",
       "      <td>https://api.spotify.com/v1/audio-analysis/3A5G...</td>\n",
       "      <td>674573</td>\n",
       "      <td>3</td>\n",
       "      <td>How Many More Times - Live in Paris, 1969</td>\n",
       "      <td>Led Zeppelin (Deluxe Edition)</td>\n",
       "      <td>Led Zeppelin</td>\n",
       "      <td>1969-01-12</td>\n",
       "      <td>5HNlYbQp7wKbKscWy7ceMp</td>\n",
       "    </tr>\n",
       "    <tr>\n",
       "      <th>143</th>\n",
       "      <td>0.445</td>\n",
       "      <td>0.703</td>\n",
       "      <td>9</td>\n",
       "      <td>-9.783</td>\n",
       "      <td>1</td>\n",
       "      <td>0.0859</td>\n",
       "      <td>0.082800</td>\n",
       "      <td>0.000003</td>\n",
       "      <td>0.0782</td>\n",
       "      <td>0.633</td>\n",
       "      <td>...</td>\n",
       "      <td>spotify:track:0FGhq1atMRDXBydpC4MlK2</td>\n",
       "      <td>https://api.spotify.com/v1/tracks/0FGhq1atMRDX...</td>\n",
       "      <td>https://api.spotify.com/v1/audio-analysis/0FGh...</td>\n",
       "      <td>166107</td>\n",
       "      <td>4</td>\n",
       "      <td>Good Times Bad Times - Remaster</td>\n",
       "      <td>Led Zeppelin (Deluxe Edition)</td>\n",
       "      <td>Led Zeppelin</td>\n",
       "      <td>1969-01-12</td>\n",
       "      <td>5HNlYbQp7wKbKscWy7ceMp</td>\n",
       "    </tr>\n",
       "    <tr>\n",
       "      <th>144</th>\n",
       "      <td>0.411</td>\n",
       "      <td>0.466</td>\n",
       "      <td>4</td>\n",
       "      <td>-11.537</td>\n",
       "      <td>0</td>\n",
       "      <td>0.0332</td>\n",
       "      <td>0.375000</td>\n",
       "      <td>0.000085</td>\n",
       "      <td>0.1420</td>\n",
       "      <td>0.158</td>\n",
       "      <td>...</td>\n",
       "      <td>spotify:track:6bTvFs7doZSipBS7P7Epoo</td>\n",
       "      <td>https://api.spotify.com/v1/tracks/6bTvFs7doZSi...</td>\n",
       "      <td>https://api.spotify.com/v1/audio-analysis/6bTv...</td>\n",
       "      <td>402761</td>\n",
       "      <td>4</td>\n",
       "      <td>Babe I'm Gonna Leave You - Remaster</td>\n",
       "      <td>Led Zeppelin (Deluxe Edition)</td>\n",
       "      <td>Led Zeppelin</td>\n",
       "      <td>1969-01-12</td>\n",
       "      <td>5HNlYbQp7wKbKscWy7ceMp</td>\n",
       "    </tr>\n",
       "    <tr>\n",
       "      <th>145</th>\n",
       "      <td>0.366</td>\n",
       "      <td>0.560</td>\n",
       "      <td>11</td>\n",
       "      <td>-10.361</td>\n",
       "      <td>0</td>\n",
       "      <td>0.0633</td>\n",
       "      <td>0.647000</td>\n",
       "      <td>0.007030</td>\n",
       "      <td>0.1800</td>\n",
       "      <td>0.361</td>\n",
       "      <td>...</td>\n",
       "      <td>spotify:track:0dF5j0jgcJBgMGGsT8drku</td>\n",
       "      <td>https://api.spotify.com/v1/tracks/0dF5j0jgcJBg...</td>\n",
       "      <td>https://api.spotify.com/v1/audio-analysis/0dF5...</td>\n",
       "      <td>388467</td>\n",
       "      <td>3</td>\n",
       "      <td>You Shook Me - Remaster</td>\n",
       "      <td>Led Zeppelin (Deluxe Edition)</td>\n",
       "      <td>Led Zeppelin</td>\n",
       "      <td>1969-01-12</td>\n",
       "      <td>5HNlYbQp7wKbKscWy7ceMp</td>\n",
       "    </tr>\n",
       "    <tr>\n",
       "      <th>146</th>\n",
       "      <td>0.240</td>\n",
       "      <td>0.546</td>\n",
       "      <td>2</td>\n",
       "      <td>-10.026</td>\n",
       "      <td>1</td>\n",
       "      <td>0.0548</td>\n",
       "      <td>0.089800</td>\n",
       "      <td>0.006480</td>\n",
       "      <td>0.0898</td>\n",
       "      <td>0.429</td>\n",
       "      <td>...</td>\n",
       "      <td>spotify:track:68bhDgGmkopBrSHn9Ywstn</td>\n",
       "      <td>https://api.spotify.com/v1/tracks/68bhDgGmkopB...</td>\n",
       "      <td>https://api.spotify.com/v1/audio-analysis/68bh...</td>\n",
       "      <td>388667</td>\n",
       "      <td>4</td>\n",
       "      <td>Dazed and Confused - Remaster</td>\n",
       "      <td>Led Zeppelin (Deluxe Edition)</td>\n",
       "      <td>Led Zeppelin</td>\n",
       "      <td>1969-01-12</td>\n",
       "      <td>5HNlYbQp7wKbKscWy7ceMp</td>\n",
       "    </tr>\n",
       "  </tbody>\n",
       "</table>\n",
       "<p>5 rows × 23 columns</p>\n",
       "</div>"
      ],
      "text/plain": [
       "     danceability  energy  key  loudness  mode  speechiness  acousticness  \\\n",
       "159         0.209   0.617    2   -10.246     1       0.0484      0.000518   \n",
       "143         0.445   0.703    9    -9.783     1       0.0859      0.082800   \n",
       "144         0.411   0.466    4   -11.537     0       0.0332      0.375000   \n",
       "145         0.366   0.560   11   -10.361     0       0.0633      0.647000   \n",
       "146         0.240   0.546    2   -10.026     1       0.0548      0.089800   \n",
       "\n",
       "     instrumentalness  liveness  valence  ...  \\\n",
       "159          0.096700    0.6450    0.370  ...   \n",
       "143          0.000003    0.0782    0.633  ...   \n",
       "144          0.000085    0.1420    0.158  ...   \n",
       "145          0.007030    0.1800    0.361  ...   \n",
       "146          0.006480    0.0898    0.429  ...   \n",
       "\n",
       "                                      uri  \\\n",
       "159  spotify:track:3A5GuTgDl58yS4HucB2IkX   \n",
       "143  spotify:track:0FGhq1atMRDXBydpC4MlK2   \n",
       "144  spotify:track:6bTvFs7doZSipBS7P7Epoo   \n",
       "145  spotify:track:0dF5j0jgcJBgMGGsT8drku   \n",
       "146  spotify:track:68bhDgGmkopBrSHn9Ywstn   \n",
       "\n",
       "                                            track_href  \\\n",
       "159  https://api.spotify.com/v1/tracks/3A5GuTgDl58y...   \n",
       "143  https://api.spotify.com/v1/tracks/0FGhq1atMRDX...   \n",
       "144  https://api.spotify.com/v1/tracks/6bTvFs7doZSi...   \n",
       "145  https://api.spotify.com/v1/tracks/0dF5j0jgcJBg...   \n",
       "146  https://api.spotify.com/v1/tracks/68bhDgGmkopB...   \n",
       "\n",
       "                                          analysis_url duration_ms  \\\n",
       "159  https://api.spotify.com/v1/audio-analysis/3A5G...      674573   \n",
       "143  https://api.spotify.com/v1/audio-analysis/0FGh...      166107   \n",
       "144  https://api.spotify.com/v1/audio-analysis/6bTv...      402761   \n",
       "145  https://api.spotify.com/v1/audio-analysis/0dF5...      388467   \n",
       "146  https://api.spotify.com/v1/audio-analysis/68bh...      388667   \n",
       "\n",
       "    time_signature                                 track_name  \\\n",
       "159              3  How Many More Times - Live in Paris, 1969   \n",
       "143              4            Good Times Bad Times - Remaster   \n",
       "144              4        Babe I'm Gonna Leave You - Remaster   \n",
       "145              3                    You Shook Me - Remaster   \n",
       "146              4              Dazed and Confused - Remaster   \n",
       "\n",
       "                        album_name  short_album_name release_date  \\\n",
       "159  Led Zeppelin (Deluxe Edition)      Led Zeppelin   1969-01-12   \n",
       "143  Led Zeppelin (Deluxe Edition)      Led Zeppelin   1969-01-12   \n",
       "144  Led Zeppelin (Deluxe Edition)      Led Zeppelin   1969-01-12   \n",
       "145  Led Zeppelin (Deluxe Edition)      Led Zeppelin   1969-01-12   \n",
       "146  Led Zeppelin (Deluxe Edition)      Led Zeppelin   1969-01-12   \n",
       "\n",
       "                   album_id  \n",
       "159  5HNlYbQp7wKbKscWy7ceMp  \n",
       "143  5HNlYbQp7wKbKscWy7ceMp  \n",
       "144  5HNlYbQp7wKbKscWy7ceMp  \n",
       "145  5HNlYbQp7wKbKscWy7ceMp  \n",
       "146  5HNlYbQp7wKbKscWy7ceMp  \n",
       "\n",
       "[5 rows x 23 columns]"
      ]
     },
     "execution_count": 13,
     "metadata": {},
     "output_type": "execute_result"
    }
   ],
   "source": [
    "df.head()\n"
   ]
  },
  {
   "cell_type": "code",
   "execution_count": 14,
   "id": "f0001c5c",
   "metadata": {},
   "outputs": [
    {
     "data": {
      "text/plain": [
       "<matplotlib.legend.Legend at 0x7fbf080aba30>"
      ]
     },
     "execution_count": 14,
     "metadata": {},
     "output_type": "execute_result"
    },
    {
     "data": {
      "image/png": "[encoded data removed]",
      "text/plain": [
       "<Figure size 720x720 with 1 Axes>"
      ]
     },
     "metadata": {
      "needs_background": "light"
     },
     "output_type": "display_data"
    }
   ],
   "source": [
    "plt.figure(figsize=(10,10))\n",
    "\n",
    "ax = sns.scatterplot(data=df, x='valence', y='acousticness', \n",
    "                     hue='short_album_name', palette='rainbow', \n",
    "                     size='duration_ms', sizes=(50,1000), \n",
    "                     alpha=0.7)\n",
    "\n",
    "# display legend without `size` attribute\n",
    "h,labs = ax.get_legend_handles_labels()\n",
    "ax.legend(h[1:10], labs[1:10], loc='best', title=None)"
   ]
  },
  {
   "cell_type": "markdown",
   "id": "15251b01",
   "metadata": {},
   "source": [
    "## Import Streamings"
   ]
  },
  {
   "cell_type": "code",
   "execution_count": 15,
   "id": "2560e15c",
   "metadata": {},
   "outputs": [],
   "source": [
    "import spotipy\n",
    "from spotipy.oauth2 import SpotifyClientCredentials\n",
    "import time"
   ]
  },
  {
   "cell_type": "code",
   "execution_count": 16,
   "id": "038efe5e",
   "metadata": {},
   "outputs": [],
   "source": [
    "client_id = ''\n",
    "client_secret = ''\n",
    "client_credentials_manager = SpotifyClientCredentials(client_id = client_id , client_secret = client_secret)\n"
   ]
  },
  {
   "cell_type": "code",
   "execution_count": 17,
   "id": "1acd2d6f",
   "metadata": {},
   "outputs": [],
   "source": [
    "sp = spotipy.Spotify(client_credentials_manager = client_credentials_manager)\n"
   ]
  },
  {
   "cell_type": "code",
   "execution_count": 19,
   "id": "2863ec45",
   "metadata": {},
   "outputs": [
    {
     "ename": "FileNotFoundError",
     "evalue": "[Errno 2] No such file or directory: 'songs_normalize.csv'",
     "output_type": "error",
     "traceback": [
      "\u001b[0;31m---------------------------------------------------------------------------\u001b[0m",
      "\u001b[0;31mFileNotFoundError\u001b[0m                         Traceback (most recent call last)",
      "Input \u001b[0;32mIn [19]\u001b[0m, in \u001b[0;36m<cell line: 1>\u001b[0;34m()\u001b[0m\n\u001b[0;32m----> 1\u001b[0m df\u001b[38;5;241m=\u001b[39m\u001b[43mpd\u001b[49m\u001b[38;5;241;43m.\u001b[39;49m\u001b[43mread_csv\u001b[49m\u001b[43m(\u001b[49m\u001b[38;5;124;43m'\u001b[39;49m\u001b[38;5;124;43msongs_normalize.csv\u001b[39;49m\u001b[38;5;124;43m'\u001b[39;49m\u001b[43m)\u001b[49m\n",
      "File \u001b[0;32m~/opt/anaconda3/lib/python3.9/site-packages/pandas/util/_decorators.py:311\u001b[0m, in \u001b[0;36mdeprecate_nonkeyword_arguments.<locals>.decorate.<locals>.wrapper\u001b[0;34m(*args, **kwargs)\u001b[0m\n\u001b[1;32m    305\u001b[0m \u001b[38;5;28;01mif\u001b[39;00m \u001b[38;5;28mlen\u001b[39m(args) \u001b[38;5;241m>\u001b[39m num_allow_args:\n\u001b[1;32m    306\u001b[0m     warnings\u001b[38;5;241m.\u001b[39mwarn(\n\u001b[1;32m    307\u001b[0m         msg\u001b[38;5;241m.\u001b[39mformat(arguments\u001b[38;5;241m=\u001b[39marguments),\n\u001b[1;32m    308\u001b[0m         \u001b[38;5;167;01mFutureWarning\u001b[39;00m,\n\u001b[1;32m    309\u001b[0m         stacklevel\u001b[38;5;241m=\u001b[39mstacklevel,\n\u001b[1;32m    310\u001b[0m     )\n\u001b[0;32m--> 311\u001b[0m \u001b[38;5;28;01mreturn\u001b[39;00m \u001b[43mfunc\u001b[49m\u001b[43m(\u001b[49m\u001b[38;5;241;43m*\u001b[39;49m\u001b[43margs\u001b[49m\u001b[43m,\u001b[49m\u001b[43m \u001b[49m\u001b[38;5;241;43m*\u001b[39;49m\u001b[38;5;241;43m*\u001b[39;49m\u001b[43mkwargs\u001b[49m\u001b[43m)\u001b[49m\n",
      "File \u001b[0;32m~/opt/anaconda3/lib/python3.9/site-packages/pandas/io/parsers/readers.py:680\u001b[0m, in \u001b[0;36mread_csv\u001b[0;34m(filepath_or_buffer, sep, delimiter, header, names, index_col, usecols, squeeze, prefix, mangle_dupe_cols, dtype, engine, converters, true_values, false_values, skipinitialspace, skiprows, skipfooter, nrows, na_values, keep_default_na, na_filter, verbose, skip_blank_lines, parse_dates, infer_datetime_format, keep_date_col, date_parser, dayfirst, cache_dates, iterator, chunksize, compression, thousands, decimal, lineterminator, quotechar, quoting, doublequote, escapechar, comment, encoding, encoding_errors, dialect, error_bad_lines, warn_bad_lines, on_bad_lines, delim_whitespace, low_memory, memory_map, float_precision, storage_options)\u001b[0m\n\u001b[1;32m    665\u001b[0m kwds_defaults \u001b[38;5;241m=\u001b[39m _refine_defaults_read(\n\u001b[1;32m    666\u001b[0m     dialect,\n\u001b[1;32m    667\u001b[0m     delimiter,\n\u001b[0;32m   (...)\u001b[0m\n\u001b[1;32m    676\u001b[0m     defaults\u001b[38;5;241m=\u001b[39m{\u001b[38;5;124m\"\u001b[39m\u001b[38;5;124mdelimiter\u001b[39m\u001b[38;5;124m\"\u001b[39m: \u001b[38;5;124m\"\u001b[39m\u001b[38;5;124m,\u001b[39m\u001b[38;5;124m\"\u001b[39m},\n\u001b[1;32m    677\u001b[0m )\n\u001b[1;32m    678\u001b[0m kwds\u001b[38;5;241m.\u001b[39mupdate(kwds_defaults)\n\u001b[0;32m--> 680\u001b[0m \u001b[38;5;28;01mreturn\u001b[39;00m \u001b[43m_read\u001b[49m\u001b[43m(\u001b[49m\u001b[43mfilepath_or_buffer\u001b[49m\u001b[43m,\u001b[49m\u001b[43m \u001b[49m\u001b[43mkwds\u001b[49m\u001b[43m)\u001b[49m\n",
      "File \u001b[0;32m~/opt/anaconda3/lib/python3.9/site-packages/pandas/io/parsers/readers.py:575\u001b[0m, in \u001b[0;36m_read\u001b[0;34m(filepath_or_buffer, kwds)\u001b[0m\n\u001b[1;32m    572\u001b[0m _validate_names(kwds\u001b[38;5;241m.\u001b[39mget(\u001b[38;5;124m\"\u001b[39m\u001b[38;5;124mnames\u001b[39m\u001b[38;5;124m\"\u001b[39m, \u001b[38;5;28;01mNone\u001b[39;00m))\n\u001b[1;32m    574\u001b[0m \u001b[38;5;66;03m# Create the parser.\u001b[39;00m\n\u001b[0;32m--> 575\u001b[0m parser \u001b[38;5;241m=\u001b[39m \u001b[43mTextFileReader\u001b[49m\u001b[43m(\u001b[49m\u001b[43mfilepath_or_buffer\u001b[49m\u001b[43m,\u001b[49m\u001b[43m \u001b[49m\u001b[38;5;241;43m*\u001b[39;49m\u001b[38;5;241;43m*\u001b[39;49m\u001b[43mkwds\u001b[49m\u001b[43m)\u001b[49m\n\u001b[1;32m    577\u001b[0m \u001b[38;5;28;01mif\u001b[39;00m chunksize \u001b[38;5;129;01mor\u001b[39;00m iterator:\n\u001b[1;32m    578\u001b[0m     \u001b[38;5;28;01mreturn\u001b[39;00m parser\n",
      "File \u001b[0;32m~/opt/anaconda3/lib/python3.9/site-packages/pandas/io/parsers/readers.py:933\u001b[0m, in \u001b[0;36mTextFileReader.__init__\u001b[0;34m(self, f, engine, **kwds)\u001b[0m\n\u001b[1;32m    930\u001b[0m     \u001b[38;5;28mself\u001b[39m\u001b[38;5;241m.\u001b[39moptions[\u001b[38;5;124m\"\u001b[39m\u001b[38;5;124mhas_index_names\u001b[39m\u001b[38;5;124m\"\u001b[39m] \u001b[38;5;241m=\u001b[39m kwds[\u001b[38;5;124m\"\u001b[39m\u001b[38;5;124mhas_index_names\u001b[39m\u001b[38;5;124m\"\u001b[39m]\n\u001b[1;32m    932\u001b[0m \u001b[38;5;28mself\u001b[39m\u001b[38;5;241m.\u001b[39mhandles: IOHandles \u001b[38;5;241m|\u001b[39m \u001b[38;5;28;01mNone\u001b[39;00m \u001b[38;5;241m=\u001b[39m \u001b[38;5;28;01mNone\u001b[39;00m\n\u001b[0;32m--> 933\u001b[0m \u001b[38;5;28mself\u001b[39m\u001b[38;5;241m.\u001b[39m_engine \u001b[38;5;241m=\u001b[39m \u001b[38;5;28;43mself\u001b[39;49m\u001b[38;5;241;43m.\u001b[39;49m\u001b[43m_make_engine\u001b[49m\u001b[43m(\u001b[49m\u001b[43mf\u001b[49m\u001b[43m,\u001b[49m\u001b[43m \u001b[49m\u001b[38;5;28;43mself\u001b[39;49m\u001b[38;5;241;43m.\u001b[39;49m\u001b[43mengine\u001b[49m\u001b[43m)\u001b[49m\n",
      "File \u001b[0;32m~/opt/anaconda3/lib/python3.9/site-packages/pandas/io/parsers/readers.py:1217\u001b[0m, in \u001b[0;36mTextFileReader._make_engine\u001b[0;34m(self, f, engine)\u001b[0m\n\u001b[1;32m   1213\u001b[0m     mode \u001b[38;5;241m=\u001b[39m \u001b[38;5;124m\"\u001b[39m\u001b[38;5;124mrb\u001b[39m\u001b[38;5;124m\"\u001b[39m\n\u001b[1;32m   1214\u001b[0m \u001b[38;5;66;03m# error: No overload variant of \"get_handle\" matches argument types\u001b[39;00m\n\u001b[1;32m   1215\u001b[0m \u001b[38;5;66;03m# \"Union[str, PathLike[str], ReadCsvBuffer[bytes], ReadCsvBuffer[str]]\"\u001b[39;00m\n\u001b[1;32m   1216\u001b[0m \u001b[38;5;66;03m# , \"str\", \"bool\", \"Any\", \"Any\", \"Any\", \"Any\", \"Any\"\u001b[39;00m\n\u001b[0;32m-> 1217\u001b[0m \u001b[38;5;28mself\u001b[39m\u001b[38;5;241m.\u001b[39mhandles \u001b[38;5;241m=\u001b[39m \u001b[43mget_handle\u001b[49m\u001b[43m(\u001b[49m\u001b[43m  \u001b[49m\u001b[38;5;66;43;03m# type: ignore[call-overload]\u001b[39;49;00m\n\u001b[1;32m   1218\u001b[0m \u001b[43m    \u001b[49m\u001b[43mf\u001b[49m\u001b[43m,\u001b[49m\n\u001b[1;32m   1219\u001b[0m \u001b[43m    \u001b[49m\u001b[43mmode\u001b[49m\u001b[43m,\u001b[49m\n\u001b[1;32m   1220\u001b[0m \u001b[43m    \u001b[49m\u001b[43mencoding\u001b[49m\u001b[38;5;241;43m=\u001b[39;49m\u001b[38;5;28;43mself\u001b[39;49m\u001b[38;5;241;43m.\u001b[39;49m\u001b[43moptions\u001b[49m\u001b[38;5;241;43m.\u001b[39;49m\u001b[43mget\u001b[49m\u001b[43m(\u001b[49m\u001b[38;5;124;43m\"\u001b[39;49m\u001b[38;5;124;43mencoding\u001b[39;49m\u001b[38;5;124;43m\"\u001b[39;49m\u001b[43m,\u001b[49m\u001b[43m \u001b[49m\u001b[38;5;28;43;01mNone\u001b[39;49;00m\u001b[43m)\u001b[49m\u001b[43m,\u001b[49m\n\u001b[1;32m   1221\u001b[0m \u001b[43m    \u001b[49m\u001b[43mcompression\u001b[49m\u001b[38;5;241;43m=\u001b[39;49m\u001b[38;5;28;43mself\u001b[39;49m\u001b[38;5;241;43m.\u001b[39;49m\u001b[43moptions\u001b[49m\u001b[38;5;241;43m.\u001b[39;49m\u001b[43mget\u001b[49m\u001b[43m(\u001b[49m\u001b[38;5;124;43m\"\u001b[39;49m\u001b[38;5;124;43mcompression\u001b[39;49m\u001b[38;5;124;43m\"\u001b[39;49m\u001b[43m,\u001b[49m\u001b[43m \u001b[49m\u001b[38;5;28;43;01mNone\u001b[39;49;00m\u001b[43m)\u001b[49m\u001b[43m,\u001b[49m\n\u001b[1;32m   1222\u001b[0m \u001b[43m    \u001b[49m\u001b[43mmemory_map\u001b[49m\u001b[38;5;241;43m=\u001b[39;49m\u001b[38;5;28;43mself\u001b[39;49m\u001b[38;5;241;43m.\u001b[39;49m\u001b[43moptions\u001b[49m\u001b[38;5;241;43m.\u001b[39;49m\u001b[43mget\u001b[49m\u001b[43m(\u001b[49m\u001b[38;5;124;43m\"\u001b[39;49m\u001b[38;5;124;43mmemory_map\u001b[39;49m\u001b[38;5;124;43m\"\u001b[39;49m\u001b[43m,\u001b[49m\u001b[43m \u001b[49m\u001b[38;5;28;43;01mFalse\u001b[39;49;00m\u001b[43m)\u001b[49m\u001b[43m,\u001b[49m\n\u001b[1;32m   1223\u001b[0m \u001b[43m    \u001b[49m\u001b[43mis_text\u001b[49m\u001b[38;5;241;43m=\u001b[39;49m\u001b[43mis_text\u001b[49m\u001b[43m,\u001b[49m\n\u001b[1;32m   1224\u001b[0m \u001b[43m    \u001b[49m\u001b[43merrors\u001b[49m\u001b[38;5;241;43m=\u001b[39;49m\u001b[38;5;28;43mself\u001b[39;49m\u001b[38;5;241;43m.\u001b[39;49m\u001b[43moptions\u001b[49m\u001b[38;5;241;43m.\u001b[39;49m\u001b[43mget\u001b[49m\u001b[43m(\u001b[49m\u001b[38;5;124;43m\"\u001b[39;49m\u001b[38;5;124;43mencoding_errors\u001b[39;49m\u001b[38;5;124;43m\"\u001b[39;49m\u001b[43m,\u001b[49m\u001b[43m \u001b[49m\u001b[38;5;124;43m\"\u001b[39;49m\u001b[38;5;124;43mstrict\u001b[39;49m\u001b[38;5;124;43m\"\u001b[39;49m\u001b[43m)\u001b[49m\u001b[43m,\u001b[49m\n\u001b[1;32m   1225\u001b[0m \u001b[43m    \u001b[49m\u001b[43mstorage_options\u001b[49m\u001b[38;5;241;43m=\u001b[39;49m\u001b[38;5;28;43mself\u001b[39;49m\u001b[38;5;241;43m.\u001b[39;49m\u001b[43moptions\u001b[49m\u001b[38;5;241;43m.\u001b[39;49m\u001b[43mget\u001b[49m\u001b[43m(\u001b[49m\u001b[38;5;124;43m\"\u001b[39;49m\u001b[38;5;124;43mstorage_options\u001b[39;49m\u001b[38;5;124;43m\"\u001b[39;49m\u001b[43m,\u001b[49m\u001b[43m \u001b[49m\u001b[38;5;28;43;01mNone\u001b[39;49;00m\u001b[43m)\u001b[49m\u001b[43m,\u001b[49m\n\u001b[1;32m   1226\u001b[0m \u001b[43m\u001b[49m\u001b[43m)\u001b[49m\n\u001b[1;32m   1227\u001b[0m \u001b[38;5;28;01massert\u001b[39;00m \u001b[38;5;28mself\u001b[39m\u001b[38;5;241m.\u001b[39mhandles \u001b[38;5;129;01mis\u001b[39;00m \u001b[38;5;129;01mnot\u001b[39;00m \u001b[38;5;28;01mNone\u001b[39;00m\n\u001b[1;32m   1228\u001b[0m f \u001b[38;5;241m=\u001b[39m \u001b[38;5;28mself\u001b[39m\u001b[38;5;241m.\u001b[39mhandles\u001b[38;5;241m.\u001b[39mhandle\n",
      "File \u001b[0;32m~/opt/anaconda3/lib/python3.9/site-packages/pandas/io/common.py:789\u001b[0m, in \u001b[0;36mget_handle\u001b[0;34m(path_or_buf, mode, encoding, compression, memory_map, is_text, errors, storage_options)\u001b[0m\n\u001b[1;32m    784\u001b[0m \u001b[38;5;28;01melif\u001b[39;00m \u001b[38;5;28misinstance\u001b[39m(handle, \u001b[38;5;28mstr\u001b[39m):\n\u001b[1;32m    785\u001b[0m     \u001b[38;5;66;03m# Check whether the filename is to be opened in binary mode.\u001b[39;00m\n\u001b[1;32m    786\u001b[0m     \u001b[38;5;66;03m# Binary mode does not support 'encoding' and 'newline'.\u001b[39;00m\n\u001b[1;32m    787\u001b[0m     \u001b[38;5;28;01mif\u001b[39;00m ioargs\u001b[38;5;241m.\u001b[39mencoding \u001b[38;5;129;01mand\u001b[39;00m \u001b[38;5;124m\"\u001b[39m\u001b[38;5;124mb\u001b[39m\u001b[38;5;124m\"\u001b[39m \u001b[38;5;129;01mnot\u001b[39;00m \u001b[38;5;129;01min\u001b[39;00m ioargs\u001b[38;5;241m.\u001b[39mmode:\n\u001b[1;32m    788\u001b[0m         \u001b[38;5;66;03m# Encoding\u001b[39;00m\n\u001b[0;32m--> 789\u001b[0m         handle \u001b[38;5;241m=\u001b[39m \u001b[38;5;28;43mopen\u001b[39;49m\u001b[43m(\u001b[49m\n\u001b[1;32m    790\u001b[0m \u001b[43m            \u001b[49m\u001b[43mhandle\u001b[49m\u001b[43m,\u001b[49m\n\u001b[1;32m    791\u001b[0m \u001b[43m            \u001b[49m\u001b[43mioargs\u001b[49m\u001b[38;5;241;43m.\u001b[39;49m\u001b[43mmode\u001b[49m\u001b[43m,\u001b[49m\n\u001b[1;32m    792\u001b[0m \u001b[43m            \u001b[49m\u001b[43mencoding\u001b[49m\u001b[38;5;241;43m=\u001b[39;49m\u001b[43mioargs\u001b[49m\u001b[38;5;241;43m.\u001b[39;49m\u001b[43mencoding\u001b[49m\u001b[43m,\u001b[49m\n\u001b[1;32m    793\u001b[0m \u001b[43m            \u001b[49m\u001b[43merrors\u001b[49m\u001b[38;5;241;43m=\u001b[39;49m\u001b[43merrors\u001b[49m\u001b[43m,\u001b[49m\n\u001b[1;32m    794\u001b[0m \u001b[43m            \u001b[49m\u001b[43mnewline\u001b[49m\u001b[38;5;241;43m=\u001b[39;49m\u001b[38;5;124;43m\"\u001b[39;49m\u001b[38;5;124;43m\"\u001b[39;49m\u001b[43m,\u001b[49m\n\u001b[1;32m    795\u001b[0m \u001b[43m        \u001b[49m\u001b[43m)\u001b[49m\n\u001b[1;32m    796\u001b[0m     \u001b[38;5;28;01melse\u001b[39;00m:\n\u001b[1;32m    797\u001b[0m         \u001b[38;5;66;03m# Binary mode\u001b[39;00m\n\u001b[1;32m    798\u001b[0m         handle \u001b[38;5;241m=\u001b[39m \u001b[38;5;28mopen\u001b[39m(handle, ioargs\u001b[38;5;241m.\u001b[39mmode)\n",
      "\u001b[0;31mFileNotFoundError\u001b[0m: [Errno 2] No such file or directory: 'songs_normalize.csv'"
     ]
    }
   ],
   "source": [
    "df=pd.read_csv('songs_normalize.csv',encoding = 'latin-1')"
   ]
  },
  {
   "cell_type": "code",
   "execution_count": null,
   "id": "9eb48ff0",
   "metadata": {},
   "outputs": [],
   "source": []
  }
 ],
 "metadata": {
  "kernelspec": {
   "display_name": "Python 3 (ipykernel)",
   "language": "python",
   "name": "python3"
  },
  "language_info": {
   "codemirror_mode": {
    "name": "ipython",
    "version": 3
   },
   "file_extension": ".py",
   "mimetype": "text/x-python",
   "name": "python",
   "nbconvert_exporter": "python",
   "pygments_lexer": "ipython3",
   "version": "3.9.12"
  }
 },
 "nbformat": 4,
 "nbformat_minor": 5
}
